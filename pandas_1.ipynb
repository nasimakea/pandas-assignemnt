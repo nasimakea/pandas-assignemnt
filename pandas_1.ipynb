{
  "nbformat": 4,
  "nbformat_minor": 0,
  "metadata": {
    "colab": {
      "provenance": []
    },
    "kernelspec": {
      "name": "python3",
      "display_name": "Python 3"
    },
    "language_info": {
      "name": "python"
    }
  },
  "cells": [
    {
      "cell_type": "code",
      "execution_count": null,
      "metadata": {
        "id": "9X2zwmZStNl6"
      },
      "outputs": [],
      "source": []
    },
    {
      "cell_type": "code",
      "source": [],
      "metadata": {
        "id": "a3Y4y66sUru-"
      },
      "execution_count": null,
      "outputs": []
    },
    {
      "cell_type": "markdown",
      "source": [
        "## Q1. Create a Pandas Series that contains the following data: 4, 8, 15, 16, 23, and 42. Then, print the series."
      ],
      "metadata": {
        "id": "UBneJsab4XEw"
      }
    },
    {
      "cell_type": "code",
      "source": [
        "import pandas as pd"
      ],
      "metadata": {
        "id": "HTjpuOcW4YcA"
      },
      "execution_count": 1,
      "outputs": []
    },
    {
      "cell_type": "code",
      "source": [
        "data=[4,8,15,16,23,42]"
      ],
      "metadata": {
        "id": "EFLEt7sq4jE8"
      },
      "execution_count": 2,
      "outputs": []
    },
    {
      "cell_type": "code",
      "source": [
        "series_dataset=pd.Series(data)"
      ],
      "metadata": {
        "id": "fu77kn0a4qk8"
      },
      "execution_count": 3,
      "outputs": []
    },
    {
      "cell_type": "code",
      "source": [
        "type(series_dataset)"
      ],
      "metadata": {
        "colab": {
          "base_uri": "https://localhost:8080/"
        },
        "id": "xQg7gnME4v7h",
        "outputId": "0285f636-2cff-4d6c-d513-d306de89b253"
      },
      "execution_count": 4,
      "outputs": [
        {
          "output_type": "execute_result",
          "data": {
            "text/plain": [
              "pandas.core.series.Series"
            ]
          },
          "metadata": {},
          "execution_count": 4
        }
      ]
    },
    {
      "cell_type": "code",
      "source": [
        "print(series_dataset)"
      ],
      "metadata": {
        "colab": {
          "base_uri": "https://localhost:8080/"
        },
        "id": "I4MH-WMr4zGj",
        "outputId": "d0dbe92e-068a-428e-8908-9c3269c4b581"
      },
      "execution_count": 5,
      "outputs": [
        {
          "output_type": "stream",
          "name": "stdout",
          "text": [
            "0     4\n",
            "1     8\n",
            "2    15\n",
            "3    16\n",
            "4    23\n",
            "5    42\n",
            "dtype: int64\n"
          ]
        }
      ]
    },
    {
      "cell_type": "code",
      "source": [],
      "metadata": {
        "id": "uvuJt6sK44Vx"
      },
      "execution_count": null,
      "outputs": []
    },
    {
      "cell_type": "markdown",
      "source": [
        "## Q2. Create a variable of list type containing 10 elements in it, and apply pandas.Series function on the variable print it.\n",
        "\n",
        "\n",
        "\n",
        "## ANS:-"
      ],
      "metadata": {
        "id": "3ZbYtxAl48Ql"
      }
    },
    {
      "cell_type": "code",
      "source": [
        "list=['Nasim','akram','data_scientiest',4+5j,74,'mom','dad']"
      ],
      "metadata": {
        "id": "3OyGagtG4_WW"
      },
      "execution_count": 6,
      "outputs": []
    },
    {
      "cell_type": "markdown",
      "source": [
        "we have already imported pandas as pd in our previous question, so we don't need to import here"
      ],
      "metadata": {
        "id": "ql78iU3H5aC7"
      }
    },
    {
      "cell_type": "code",
      "source": [
        "series_list=pd.Series(list)"
      ],
      "metadata": {
        "id": "fSltGDkw5Vep"
      },
      "execution_count": 7,
      "outputs": []
    },
    {
      "cell_type": "code",
      "source": [
        "type(series_list)"
      ],
      "metadata": {
        "colab": {
          "base_uri": "https://localhost:8080/"
        },
        "id": "9WcE_w4n5nz8",
        "outputId": "a12ccc68-1a8c-4cec-840a-c5af818b7f90"
      },
      "execution_count": 8,
      "outputs": [
        {
          "output_type": "execute_result",
          "data": {
            "text/plain": [
              "pandas.core.series.Series"
            ]
          },
          "metadata": {},
          "execution_count": 8
        }
      ]
    },
    {
      "cell_type": "code",
      "source": [
        "print(series_list)"
      ],
      "metadata": {
        "colab": {
          "base_uri": "https://localhost:8080/"
        },
        "id": "49YSsX6d5p7X",
        "outputId": "3d50a989-ad0d-40a8-fe73-e5732b7d9981"
      },
      "execution_count": 9,
      "outputs": [
        {
          "output_type": "stream",
          "name": "stdout",
          "text": [
            "0              Nasim\n",
            "1              akram\n",
            "2    data_scientiest\n",
            "3             (4+5j)\n",
            "4                 74\n",
            "5                mom\n",
            "6                dad\n",
            "dtype: object\n"
          ]
        }
      ]
    },
    {
      "cell_type": "code",
      "source": [],
      "metadata": {
        "id": "5G9402n95tAt"
      },
      "execution_count": null,
      "outputs": []
    },
    {
      "cell_type": "markdown",
      "source": [
        "## Q3. Create a Pandas DataFrame that contains the following data: ![Screenshot 2024-01-25 144614.png](data:image/png;base64,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)\n",
        "\n",
        "Name\n",
        "Alice\n",
        "Bob\n",
        "Claire\n",
        "\n",
        "Age\n",
        "25\n",
        "30\n",
        "27\n",
        "\n",
        "Gender\n",
        "Female\n",
        "Male\n",
        "Female\n",
        "\n",
        "\n",
        "\n",
        "## Then, print the DataFrame."
      ],
      "metadata": {
        "id": "CeVzbCdE54NV"
      }
    },
    {
      "cell_type": "code",
      "source": [],
      "metadata": {
        "id": "DogkCpcz6NGS"
      },
      "execution_count": null,
      "outputs": []
    },
    {
      "cell_type": "markdown",
      "source": [
        "## ANS:-"
      ],
      "metadata": {
        "id": "rG0_32p57MWQ"
      }
    },
    {
      "cell_type": "code",
      "source": [
        "data={'Name':['Alice','Bob','Clarie'],'Age':[25,30,27],'Gender':['Female','Male','Female']}"
      ],
      "metadata": {
        "id": "G4ZuFujk7N3m"
      },
      "execution_count": 10,
      "outputs": []
    },
    {
      "cell_type": "code",
      "source": [
        "DataFrame=pd.DataFrame(data)"
      ],
      "metadata": {
        "id": "mQo9UyyN7i1l"
      },
      "execution_count": 11,
      "outputs": []
    },
    {
      "cell_type": "code",
      "source": [
        "print(type(DataFrame))"
      ],
      "metadata": {
        "colab": {
          "base_uri": "https://localhost:8080/"
        },
        "id": "rQS211im7oKg",
        "outputId": "8f2eddb2-4833-496b-b30a-07ae4a5dc3a6"
      },
      "execution_count": 12,
      "outputs": [
        {
          "output_type": "stream",
          "name": "stdout",
          "text": [
            "<class 'pandas.core.frame.DataFrame'>\n"
          ]
        }
      ]
    },
    {
      "cell_type": "code",
      "source": [
        "print(DataFrame)"
      ],
      "metadata": {
        "colab": {
          "base_uri": "https://localhost:8080/"
        },
        "id": "d22rOPIM7uPg",
        "outputId": "50d012a9-9d47-4a13-ff0a-200184f716ee"
      },
      "execution_count": 13,
      "outputs": [
        {
          "output_type": "stream",
          "name": "stdout",
          "text": [
            "     Name  Age  Gender\n",
            "0   Alice   25  Female\n",
            "1     Bob   30    Male\n",
            "2  Clarie   27  Female\n"
          ]
        }
      ]
    },
    {
      "cell_type": "code",
      "source": [
        "DataFrame.columns"
      ],
      "metadata": {
        "colab": {
          "base_uri": "https://localhost:8080/"
        },
        "id": "hQof_O8B7xPi",
        "outputId": "f5ff4359-50cd-4b38-9310-1406f9b3bc61"
      },
      "execution_count": 14,
      "outputs": [
        {
          "output_type": "execute_result",
          "data": {
            "text/plain": [
              "Index(['Name', 'Age', 'Gender'], dtype='object')"
            ]
          },
          "metadata": {},
          "execution_count": 14
        }
      ]
    },
    {
      "cell_type": "code",
      "source": [],
      "metadata": {
        "id": "uyGSC79571Bb"
      },
      "execution_count": null,
      "outputs": []
    },
    {
      "cell_type": "markdown",
      "source": [
        "## Q4. What is ‘DataFrame’ in pandas and how is it different from pandas.series? Explain with an example."
      ],
      "metadata": {
        "id": "85gZsI6X77_0"
      }
    },
    {
      "cell_type": "code",
      "source": [],
      "metadata": {
        "id": "p0b8fzBe79MZ"
      },
      "execution_count": null,
      "outputs": []
    },
    {
      "cell_type": "markdown",
      "source": [
        "## ANS:-\n",
        "\n",
        "## In Pandas, a DataFrame is a two-dimensional, tabular data structure that consists of rows and columns. It can be thought of as a container for Pandas Series objects, where each column represents a Series. The DataFrame is a versatile data structure that allows you to store and manipulate heterogeneous data types.\n",
        "\n",
        "#On the other hand, a Pandas Series is a one-dimensional labeled array capable of holding any data type. A DataFrame, therefore, is like a collection of Series, where each Series corresponds to a column"
      ],
      "metadata": {
        "id": "h2AfY2ss8Pji"
      }
    },
    {
      "cell_type": "code",
      "source": [],
      "metadata": {
        "id": "mHmfQuUe8XQ3"
      },
      "execution_count": null,
      "outputs": []
    },
    {
      "cell_type": "markdown",
      "source": [
        "## Q5. What are some common functions you can use to manipulate data in a Pandas DataFrame? Can you give an example of when you might use one of these functions?"
      ],
      "metadata": {
        "id": "EjnsWGzZ8evH"
      }
    },
    {
      "cell_type": "code",
      "source": [],
      "metadata": {
        "id": "fiy4HW3M8iQN"
      },
      "execution_count": null,
      "outputs": []
    },
    {
      "cell_type": "markdown",
      "source": [
        "## ANS:-"
      ],
      "metadata": {
        "id": "wU-mGJWX-5o3"
      }
    },
    {
      "cell_type": "markdown",
      "source": [
        "It has wide range of functions but let's see some of the frequently used function during the analysis or making model to predict the outcome"
      ],
      "metadata": {
        "id": "z6FZLyuN9i-I"
      }
    },
    {
      "cell_type": "code",
      "source": [
        "import pandas as pd\n",
        "\n",
        "data = {\n",
        "    'Name': ['Alice', 'Bob', 'Charlie', 'David', 'Eva'],\n",
        "    'Age': [25, 30, 35, 40, 22],\n",
        "    'Salary': [50000, 60000, 75000, 90000, 45000]\n",
        "}\n",
        "\n",
        "df = pd.DataFrame(data)"
      ],
      "metadata": {
        "id": "Ws4XkRK99xGg"
      },
      "execution_count": 15,
      "outputs": []
    },
    {
      "cell_type": "code",
      "source": [
        "print(df.head(2))"
      ],
      "metadata": {
        "colab": {
          "base_uri": "https://localhost:8080/"
        },
        "id": "uaPbAsZL9x54",
        "outputId": "e20dd1fa-7bc2-4e31-f743-17901f0e041a"
      },
      "execution_count": 17,
      "outputs": [
        {
          "output_type": "stream",
          "name": "stdout",
          "text": [
            "    Name  Age  Salary\n",
            "0  Alice   25   50000\n",
            "1    Bob   30   60000\n"
          ]
        }
      ]
    },
    {
      "cell_type": "code",
      "source": [
        "print(df.tail(2))"
      ],
      "metadata": {
        "colab": {
          "base_uri": "https://localhost:8080/"
        },
        "id": "SJDlstsa91-n",
        "outputId": "8bb4b609-4484-4979-d740-5807137f7483"
      },
      "execution_count": 18,
      "outputs": [
        {
          "output_type": "stream",
          "name": "stdout",
          "text": [
            "    Name  Age  Salary\n",
            "3  David   40   90000\n",
            "4    Eva   22   45000\n"
          ]
        }
      ]
    },
    {
      "cell_type": "code",
      "source": [
        "df.info()"
      ],
      "metadata": {
        "colab": {
          "base_uri": "https://localhost:8080/"
        },
        "id": "mV08SLwK97Tc",
        "outputId": "e5fc6f26-19e2-4a58-a730-0674ee1e9af9"
      },
      "execution_count": 19,
      "outputs": [
        {
          "output_type": "stream",
          "name": "stdout",
          "text": [
            "<class 'pandas.core.frame.DataFrame'>\n",
            "RangeIndex: 5 entries, 0 to 4\n",
            "Data columns (total 3 columns):\n",
            " #   Column  Non-Null Count  Dtype \n",
            "---  ------  --------------  ----- \n",
            " 0   Name    5 non-null      object\n",
            " 1   Age     5 non-null      int64 \n",
            " 2   Salary  5 non-null      int64 \n",
            "dtypes: int64(2), object(1)\n",
            "memory usage: 248.0+ bytes\n"
          ]
        }
      ]
    },
    {
      "cell_type": "code",
      "source": [
        "df.shape #it is instance"
      ],
      "metadata": {
        "colab": {
          "base_uri": "https://localhost:8080/"
        },
        "id": "Y_TNiN3m98-S",
        "outputId": "d79ca510-043e-4ac0-afd8-28ab126a3314"
      },
      "execution_count": 21,
      "outputs": [
        {
          "output_type": "execute_result",
          "data": {
            "text/plain": [
              "(5, 3)"
            ]
          },
          "metadata": {},
          "execution_count": 21
        }
      ]
    },
    {
      "cell_type": "code",
      "source": [
        "df.describe()"
      ],
      "metadata": {
        "colab": {
          "base_uri": "https://localhost:8080/",
          "height": 300
        },
        "id": "8c7a6SxX9-OP",
        "outputId": "e0bb22a5-f2b3-4802-f9ba-0cab85cd8198"
      },
      "execution_count": 22,
      "outputs": [
        {
          "output_type": "execute_result",
          "data": {
            "text/plain": [
              "             Age        Salary\n",
              "count   5.000000      5.000000\n",
              "mean   30.400000  64000.000000\n",
              "std     7.300685  18506.755523\n",
              "min    22.000000  45000.000000\n",
              "25%    25.000000  50000.000000\n",
              "50%    30.000000  60000.000000\n",
              "75%    35.000000  75000.000000\n",
              "max    40.000000  90000.000000"
            ],
            "text/html": [
              "\n",
              "  <div id=\"df-f95c0bba-7737-4c2f-af54-5d9e41456caf\" class=\"colab-df-container\">\n",
              "    <div>\n",
              "<style scoped>\n",
              "    .dataframe tbody tr th:only-of-type {\n",
              "        vertical-align: middle;\n",
              "    }\n",
              "\n",
              "    .dataframe tbody tr th {\n",
              "        vertical-align: top;\n",
              "    }\n",
              "\n",
              "    .dataframe thead th {\n",
              "        text-align: right;\n",
              "    }\n",
              "</style>\n",
              "<table border=\"1\" class=\"dataframe\">\n",
              "  <thead>\n",
              "    <tr style=\"text-align: right;\">\n",
              "      <th></th>\n",
              "      <th>Age</th>\n",
              "      <th>Salary</th>\n",
              "    </tr>\n",
              "  </thead>\n",
              "  <tbody>\n",
              "    <tr>\n",
              "      <th>count</th>\n",
              "      <td>5.000000</td>\n",
              "      <td>5.000000</td>\n",
              "    </tr>\n",
              "    <tr>\n",
              "      <th>mean</th>\n",
              "      <td>30.400000</td>\n",
              "      <td>64000.000000</td>\n",
              "    </tr>\n",
              "    <tr>\n",
              "      <th>std</th>\n",
              "      <td>7.300685</td>\n",
              "      <td>18506.755523</td>\n",
              "    </tr>\n",
              "    <tr>\n",
              "      <th>min</th>\n",
              "      <td>22.000000</td>\n",
              "      <td>45000.000000</td>\n",
              "    </tr>\n",
              "    <tr>\n",
              "      <th>25%</th>\n",
              "      <td>25.000000</td>\n",
              "      <td>50000.000000</td>\n",
              "    </tr>\n",
              "    <tr>\n",
              "      <th>50%</th>\n",
              "      <td>30.000000</td>\n",
              "      <td>60000.000000</td>\n",
              "    </tr>\n",
              "    <tr>\n",
              "      <th>75%</th>\n",
              "      <td>35.000000</td>\n",
              "      <td>75000.000000</td>\n",
              "    </tr>\n",
              "    <tr>\n",
              "      <th>max</th>\n",
              "      <td>40.000000</td>\n",
              "      <td>90000.000000</td>\n",
              "    </tr>\n",
              "  </tbody>\n",
              "</table>\n",
              "</div>\n",
              "    <div class=\"colab-df-buttons\">\n",
              "\n",
              "  <div class=\"colab-df-container\">\n",
              "    <button class=\"colab-df-convert\" onclick=\"convertToInteractive('df-f95c0bba-7737-4c2f-af54-5d9e41456caf')\"\n",
              "            title=\"Convert this dataframe to an interactive table.\"\n",
              "            style=\"display:none;\">\n",
              "\n",
              "  <svg xmlns=\"http://www.w3.org/2000/svg\" height=\"24px\" viewBox=\"0 -960 960 960\">\n",
              "    <path d=\"M120-120v-720h720v720H120Zm60-500h600v-160H180v160Zm220 220h160v-160H400v160Zm0 220h160v-160H400v160ZM180-400h160v-160H180v160Zm440 0h160v-160H620v160ZM180-180h160v-160H180v160Zm440 0h160v-160H620v160Z\"/>\n",
              "  </svg>\n",
              "    </button>\n",
              "\n",
              "  <style>\n",
              "    .colab-df-container {\n",
              "      display:flex;\n",
              "      gap: 12px;\n",
              "    }\n",
              "\n",
              "    .colab-df-convert {\n",
              "      background-color: #E8F0FE;\n",
              "      border: none;\n",
              "      border-radius: 50%;\n",
              "      cursor: pointer;\n",
              "      display: none;\n",
              "      fill: #1967D2;\n",
              "      height: 32px;\n",
              "      padding: 0 0 0 0;\n",
              "      width: 32px;\n",
              "    }\n",
              "\n",
              "    .colab-df-convert:hover {\n",
              "      background-color: #E2EBFA;\n",
              "      box-shadow: 0px 1px 2px rgba(60, 64, 67, 0.3), 0px 1px 3px 1px rgba(60, 64, 67, 0.15);\n",
              "      fill: #174EA6;\n",
              "    }\n",
              "\n",
              "    .colab-df-buttons div {\n",
              "      margin-bottom: 4px;\n",
              "    }\n",
              "\n",
              "    [theme=dark] .colab-df-convert {\n",
              "      background-color: #3B4455;\n",
              "      fill: #D2E3FC;\n",
              "    }\n",
              "\n",
              "    [theme=dark] .colab-df-convert:hover {\n",
              "      background-color: #434B5C;\n",
              "      box-shadow: 0px 1px 3px 1px rgba(0, 0, 0, 0.15);\n",
              "      filter: drop-shadow(0px 1px 2px rgba(0, 0, 0, 0.3));\n",
              "      fill: #FFFFFF;\n",
              "    }\n",
              "  </style>\n",
              "\n",
              "    <script>\n",
              "      const buttonEl =\n",
              "        document.querySelector('#df-f95c0bba-7737-4c2f-af54-5d9e41456caf button.colab-df-convert');\n",
              "      buttonEl.style.display =\n",
              "        google.colab.kernel.accessAllowed ? 'block' : 'none';\n",
              "\n",
              "      async function convertToInteractive(key) {\n",
              "        const element = document.querySelector('#df-f95c0bba-7737-4c2f-af54-5d9e41456caf');\n",
              "        const dataTable =\n",
              "          await google.colab.kernel.invokeFunction('convertToInteractive',\n",
              "                                                    [key], {});\n",
              "        if (!dataTable) return;\n",
              "\n",
              "        const docLinkHtml = 'Like what you see? Visit the ' +\n",
              "          '<a target=\"_blank\" href=https://colab.research.google.com/notebooks/data_table.ipynb>data table notebook</a>'\n",
              "          + ' to learn more about interactive tables.';\n",
              "        element.innerHTML = '';\n",
              "        dataTable['output_type'] = 'display_data';\n",
              "        await google.colab.output.renderOutput(dataTable, element);\n",
              "        const docLink = document.createElement('div');\n",
              "        docLink.innerHTML = docLinkHtml;\n",
              "        element.appendChild(docLink);\n",
              "      }\n",
              "    </script>\n",
              "  </div>\n",
              "\n",
              "\n",
              "<div id=\"df-a10b2ed5-e45c-4499-a40b-9bb42aaf3d45\">\n",
              "  <button class=\"colab-df-quickchart\" onclick=\"quickchart('df-a10b2ed5-e45c-4499-a40b-9bb42aaf3d45')\"\n",
              "            title=\"Suggest charts\"\n",
              "            style=\"display:none;\">\n",
              "\n",
              "<svg xmlns=\"http://www.w3.org/2000/svg\" height=\"24px\"viewBox=\"0 0 24 24\"\n",
              "     width=\"24px\">\n",
              "    <g>\n",
              "        <path d=\"M19 3H5c-1.1 0-2 .9-2 2v14c0 1.1.9 2 2 2h14c1.1 0 2-.9 2-2V5c0-1.1-.9-2-2-2zM9 17H7v-7h2v7zm4 0h-2V7h2v10zm4 0h-2v-4h2v4z\"/>\n",
              "    </g>\n",
              "</svg>\n",
              "  </button>\n",
              "\n",
              "<style>\n",
              "  .colab-df-quickchart {\n",
              "      --bg-color: #E8F0FE;\n",
              "      --fill-color: #1967D2;\n",
              "      --hover-bg-color: #E2EBFA;\n",
              "      --hover-fill-color: #174EA6;\n",
              "      --disabled-fill-color: #AAA;\n",
              "      --disabled-bg-color: #DDD;\n",
              "  }\n",
              "\n",
              "  [theme=dark] .colab-df-quickchart {\n",
              "      --bg-color: #3B4455;\n",
              "      --fill-color: #D2E3FC;\n",
              "      --hover-bg-color: #434B5C;\n",
              "      --hover-fill-color: #FFFFFF;\n",
              "      --disabled-bg-color: #3B4455;\n",
              "      --disabled-fill-color: #666;\n",
              "  }\n",
              "\n",
              "  .colab-df-quickchart {\n",
              "    background-color: var(--bg-color);\n",
              "    border: none;\n",
              "    border-radius: 50%;\n",
              "    cursor: pointer;\n",
              "    display: none;\n",
              "    fill: var(--fill-color);\n",
              "    height: 32px;\n",
              "    padding: 0;\n",
              "    width: 32px;\n",
              "  }\n",
              "\n",
              "  .colab-df-quickchart:hover {\n",
              "    background-color: var(--hover-bg-color);\n",
              "    box-shadow: 0 1px 2px rgba(60, 64, 67, 0.3), 0 1px 3px 1px rgba(60, 64, 67, 0.15);\n",
              "    fill: var(--button-hover-fill-color);\n",
              "  }\n",
              "\n",
              "  .colab-df-quickchart-complete:disabled,\n",
              "  .colab-df-quickchart-complete:disabled:hover {\n",
              "    background-color: var(--disabled-bg-color);\n",
              "    fill: var(--disabled-fill-color);\n",
              "    box-shadow: none;\n",
              "  }\n",
              "\n",
              "  .colab-df-spinner {\n",
              "    border: 2px solid var(--fill-color);\n",
              "    border-color: transparent;\n",
              "    border-bottom-color: var(--fill-color);\n",
              "    animation:\n",
              "      spin 1s steps(1) infinite;\n",
              "  }\n",
              "\n",
              "  @keyframes spin {\n",
              "    0% {\n",
              "      border-color: transparent;\n",
              "      border-bottom-color: var(--fill-color);\n",
              "      border-left-color: var(--fill-color);\n",
              "    }\n",
              "    20% {\n",
              "      border-color: transparent;\n",
              "      border-left-color: var(--fill-color);\n",
              "      border-top-color: var(--fill-color);\n",
              "    }\n",
              "    30% {\n",
              "      border-color: transparent;\n",
              "      border-left-color: var(--fill-color);\n",
              "      border-top-color: var(--fill-color);\n",
              "      border-right-color: var(--fill-color);\n",
              "    }\n",
              "    40% {\n",
              "      border-color: transparent;\n",
              "      border-right-color: var(--fill-color);\n",
              "      border-top-color: var(--fill-color);\n",
              "    }\n",
              "    60% {\n",
              "      border-color: transparent;\n",
              "      border-right-color: var(--fill-color);\n",
              "    }\n",
              "    80% {\n",
              "      border-color: transparent;\n",
              "      border-right-color: var(--fill-color);\n",
              "      border-bottom-color: var(--fill-color);\n",
              "    }\n",
              "    90% {\n",
              "      border-color: transparent;\n",
              "      border-bottom-color: var(--fill-color);\n",
              "    }\n",
              "  }\n",
              "</style>\n",
              "\n",
              "  <script>\n",
              "    async function quickchart(key) {\n",
              "      const quickchartButtonEl =\n",
              "        document.querySelector('#' + key + ' button');\n",
              "      quickchartButtonEl.disabled = true;  // To prevent multiple clicks.\n",
              "      quickchartButtonEl.classList.add('colab-df-spinner');\n",
              "      try {\n",
              "        const charts = await google.colab.kernel.invokeFunction(\n",
              "            'suggestCharts', [key], {});\n",
              "      } catch (error) {\n",
              "        console.error('Error during call to suggestCharts:', error);\n",
              "      }\n",
              "      quickchartButtonEl.classList.remove('colab-df-spinner');\n",
              "      quickchartButtonEl.classList.add('colab-df-quickchart-complete');\n",
              "    }\n",
              "    (() => {\n",
              "      let quickchartButtonEl =\n",
              "        document.querySelector('#df-a10b2ed5-e45c-4499-a40b-9bb42aaf3d45 button');\n",
              "      quickchartButtonEl.style.display =\n",
              "        google.colab.kernel.accessAllowed ? 'block' : 'none';\n",
              "    })();\n",
              "  </script>\n",
              "</div>\n",
              "\n",
              "    </div>\n",
              "  </div>\n"
            ]
          },
          "metadata": {},
          "execution_count": 22
        }
      ]
    },
    {
      "cell_type": "code",
      "source": [],
      "metadata": {
        "id": "c2VyAk2s-EZD"
      },
      "execution_count": null,
      "outputs": []
    },
    {
      "cell_type": "markdown",
      "source": [
        "## Q6. Which of the following is mutable in nature Series, DataFrame, Panel?"
      ],
      "metadata": {
        "id": "-VtUvVw--R_O"
      }
    },
    {
      "cell_type": "code",
      "source": [],
      "metadata": {
        "id": "9L9_mOWQ-TZ8"
      },
      "execution_count": null,
      "outputs": []
    },
    {
      "cell_type": "markdown",
      "source": [
        "## ANS:-\n",
        "\n",
        "## In the context of pandas, both Series and DataFrame are mutable in nature, while Panel is considered deprecated. Mutable objects can be modified after creation, and both Series and DataFrame allow for adding, updating, or deleting elements."
      ],
      "metadata": {
        "id": "3hHgl4ky-xwL"
      }
    },
    {
      "cell_type": "code",
      "source": [],
      "metadata": {
        "id": "mfQ_EXb1-27a"
      },
      "execution_count": null,
      "outputs": []
    },
    {
      "cell_type": "markdown",
      "source": [
        "## ANS:-\n"
      ],
      "metadata": {
        "id": "g5zL8G6u_Pm4"
      }
    },
    {
      "cell_type": "code",
      "source": [
        "ser1=[12,'nasim',786,'india','BhARAT']\n",
        "ser2=[13,'what','nothere','Hindustan',56]\n",
        "ser3=[1,2,3,4,5]"
      ],
      "metadata": {
        "id": "BQjCPBVt_RR6"
      },
      "execution_count": 23,
      "outputs": []
    },
    {
      "cell_type": "code",
      "source": [
        "SER1=pd.Series(ser1)\n",
        "SER2=pd.Series(ser2)\n",
        "SER3=pd.Series(ser1)"
      ],
      "metadata": {
        "id": "QD50r--5_uSA"
      },
      "execution_count": 24,
      "outputs": []
    },
    {
      "cell_type": "code",
      "source": [
        "data={'ser1':SER1,'ser2':SER2,'ser3':SER3}"
      ],
      "metadata": {
        "id": "3bi4RhxxCZGu"
      },
      "execution_count": 28,
      "outputs": []
    },
    {
      "cell_type": "code",
      "source": [
        "df1=pd.DataFrame(data)"
      ],
      "metadata": {
        "id": "dFNWyyipCfIO"
      },
      "execution_count": 29,
      "outputs": []
    },
    {
      "cell_type": "code",
      "source": [
        "df1"
      ],
      "metadata": {
        "colab": {
          "base_uri": "https://localhost:8080/",
          "height": 206
        },
        "id": "qHuqT6RnDGFg",
        "outputId": "43b4fc19-a671-44a7-aca0-a3c00db10996"
      },
      "execution_count": 30,
      "outputs": [
        {
          "output_type": "execute_result",
          "data": {
            "text/plain": [
              "     ser1       ser2    ser3\n",
              "0      12         13      12\n",
              "1   nasim       what   nasim\n",
              "2     786    nothere     786\n",
              "3   india  Hindustan   india\n",
              "4  BhARAT         56  BhARAT"
            ],
            "text/html": [
              "\n",
              "  <div id=\"df-9871c569-00dd-4f54-9d0b-8c1c7afec4e3\" class=\"colab-df-container\">\n",
              "    <div>\n",
              "<style scoped>\n",
              "    .dataframe tbody tr th:only-of-type {\n",
              "        vertical-align: middle;\n",
              "    }\n",
              "\n",
              "    .dataframe tbody tr th {\n",
              "        vertical-align: top;\n",
              "    }\n",
              "\n",
              "    .dataframe thead th {\n",
              "        text-align: right;\n",
              "    }\n",
              "</style>\n",
              "<table border=\"1\" class=\"dataframe\">\n",
              "  <thead>\n",
              "    <tr style=\"text-align: right;\">\n",
              "      <th></th>\n",
              "      <th>ser1</th>\n",
              "      <th>ser2</th>\n",
              "      <th>ser3</th>\n",
              "    </tr>\n",
              "  </thead>\n",
              "  <tbody>\n",
              "    <tr>\n",
              "      <th>0</th>\n",
              "      <td>12</td>\n",
              "      <td>13</td>\n",
              "      <td>12</td>\n",
              "    </tr>\n",
              "    <tr>\n",
              "      <th>1</th>\n",
              "      <td>nasim</td>\n",
              "      <td>what</td>\n",
              "      <td>nasim</td>\n",
              "    </tr>\n",
              "    <tr>\n",
              "      <th>2</th>\n",
              "      <td>786</td>\n",
              "      <td>nothere</td>\n",
              "      <td>786</td>\n",
              "    </tr>\n",
              "    <tr>\n",
              "      <th>3</th>\n",
              "      <td>india</td>\n",
              "      <td>Hindustan</td>\n",
              "      <td>india</td>\n",
              "    </tr>\n",
              "    <tr>\n",
              "      <th>4</th>\n",
              "      <td>BhARAT</td>\n",
              "      <td>56</td>\n",
              "      <td>BhARAT</td>\n",
              "    </tr>\n",
              "  </tbody>\n",
              "</table>\n",
              "</div>\n",
              "    <div class=\"colab-df-buttons\">\n",
              "\n",
              "  <div class=\"colab-df-container\">\n",
              "    <button class=\"colab-df-convert\" onclick=\"convertToInteractive('df-9871c569-00dd-4f54-9d0b-8c1c7afec4e3')\"\n",
              "            title=\"Convert this dataframe to an interactive table.\"\n",
              "            style=\"display:none;\">\n",
              "\n",
              "  <svg xmlns=\"http://www.w3.org/2000/svg\" height=\"24px\" viewBox=\"0 -960 960 960\">\n",
              "    <path d=\"M120-120v-720h720v720H120Zm60-500h600v-160H180v160Zm220 220h160v-160H400v160Zm0 220h160v-160H400v160ZM180-400h160v-160H180v160Zm440 0h160v-160H620v160ZM180-180h160v-160H180v160Zm440 0h160v-160H620v160Z\"/>\n",
              "  </svg>\n",
              "    </button>\n",
              "\n",
              "  <style>\n",
              "    .colab-df-container {\n",
              "      display:flex;\n",
              "      gap: 12px;\n",
              "    }\n",
              "\n",
              "    .colab-df-convert {\n",
              "      background-color: #E8F0FE;\n",
              "      border: none;\n",
              "      border-radius: 50%;\n",
              "      cursor: pointer;\n",
              "      display: none;\n",
              "      fill: #1967D2;\n",
              "      height: 32px;\n",
              "      padding: 0 0 0 0;\n",
              "      width: 32px;\n",
              "    }\n",
              "\n",
              "    .colab-df-convert:hover {\n",
              "      background-color: #E2EBFA;\n",
              "      box-shadow: 0px 1px 2px rgba(60, 64, 67, 0.3), 0px 1px 3px 1px rgba(60, 64, 67, 0.15);\n",
              "      fill: #174EA6;\n",
              "    }\n",
              "\n",
              "    .colab-df-buttons div {\n",
              "      margin-bottom: 4px;\n",
              "    }\n",
              "\n",
              "    [theme=dark] .colab-df-convert {\n",
              "      background-color: #3B4455;\n",
              "      fill: #D2E3FC;\n",
              "    }\n",
              "\n",
              "    [theme=dark] .colab-df-convert:hover {\n",
              "      background-color: #434B5C;\n",
              "      box-shadow: 0px 1px 3px 1px rgba(0, 0, 0, 0.15);\n",
              "      filter: drop-shadow(0px 1px 2px rgba(0, 0, 0, 0.3));\n",
              "      fill: #FFFFFF;\n",
              "    }\n",
              "  </style>\n",
              "\n",
              "    <script>\n",
              "      const buttonEl =\n",
              "        document.querySelector('#df-9871c569-00dd-4f54-9d0b-8c1c7afec4e3 button.colab-df-convert');\n",
              "      buttonEl.style.display =\n",
              "        google.colab.kernel.accessAllowed ? 'block' : 'none';\n",
              "\n",
              "      async function convertToInteractive(key) {\n",
              "        const element = document.querySelector('#df-9871c569-00dd-4f54-9d0b-8c1c7afec4e3');\n",
              "        const dataTable =\n",
              "          await google.colab.kernel.invokeFunction('convertToInteractive',\n",
              "                                                    [key], {});\n",
              "        if (!dataTable) return;\n",
              "\n",
              "        const docLinkHtml = 'Like what you see? Visit the ' +\n",
              "          '<a target=\"_blank\" href=https://colab.research.google.com/notebooks/data_table.ipynb>data table notebook</a>'\n",
              "          + ' to learn more about interactive tables.';\n",
              "        element.innerHTML = '';\n",
              "        dataTable['output_type'] = 'display_data';\n",
              "        await google.colab.output.renderOutput(dataTable, element);\n",
              "        const docLink = document.createElement('div');\n",
              "        docLink.innerHTML = docLinkHtml;\n",
              "        element.appendChild(docLink);\n",
              "      }\n",
              "    </script>\n",
              "  </div>\n",
              "\n",
              "\n",
              "<div id=\"df-03aa6637-2b5b-40ae-b431-8c726868d387\">\n",
              "  <button class=\"colab-df-quickchart\" onclick=\"quickchart('df-03aa6637-2b5b-40ae-b431-8c726868d387')\"\n",
              "            title=\"Suggest charts\"\n",
              "            style=\"display:none;\">\n",
              "\n",
              "<svg xmlns=\"http://www.w3.org/2000/svg\" height=\"24px\"viewBox=\"0 0 24 24\"\n",
              "     width=\"24px\">\n",
              "    <g>\n",
              "        <path d=\"M19 3H5c-1.1 0-2 .9-2 2v14c0 1.1.9 2 2 2h14c1.1 0 2-.9 2-2V5c0-1.1-.9-2-2-2zM9 17H7v-7h2v7zm4 0h-2V7h2v10zm4 0h-2v-4h2v4z\"/>\n",
              "    </g>\n",
              "</svg>\n",
              "  </button>\n",
              "\n",
              "<style>\n",
              "  .colab-df-quickchart {\n",
              "      --bg-color: #E8F0FE;\n",
              "      --fill-color: #1967D2;\n",
              "      --hover-bg-color: #E2EBFA;\n",
              "      --hover-fill-color: #174EA6;\n",
              "      --disabled-fill-color: #AAA;\n",
              "      --disabled-bg-color: #DDD;\n",
              "  }\n",
              "\n",
              "  [theme=dark] .colab-df-quickchart {\n",
              "      --bg-color: #3B4455;\n",
              "      --fill-color: #D2E3FC;\n",
              "      --hover-bg-color: #434B5C;\n",
              "      --hover-fill-color: #FFFFFF;\n",
              "      --disabled-bg-color: #3B4455;\n",
              "      --disabled-fill-color: #666;\n",
              "  }\n",
              "\n",
              "  .colab-df-quickchart {\n",
              "    background-color: var(--bg-color);\n",
              "    border: none;\n",
              "    border-radius: 50%;\n",
              "    cursor: pointer;\n",
              "    display: none;\n",
              "    fill: var(--fill-color);\n",
              "    height: 32px;\n",
              "    padding: 0;\n",
              "    width: 32px;\n",
              "  }\n",
              "\n",
              "  .colab-df-quickchart:hover {\n",
              "    background-color: var(--hover-bg-color);\n",
              "    box-shadow: 0 1px 2px rgba(60, 64, 67, 0.3), 0 1px 3px 1px rgba(60, 64, 67, 0.15);\n",
              "    fill: var(--button-hover-fill-color);\n",
              "  }\n",
              "\n",
              "  .colab-df-quickchart-complete:disabled,\n",
              "  .colab-df-quickchart-complete:disabled:hover {\n",
              "    background-color: var(--disabled-bg-color);\n",
              "    fill: var(--disabled-fill-color);\n",
              "    box-shadow: none;\n",
              "  }\n",
              "\n",
              "  .colab-df-spinner {\n",
              "    border: 2px solid var(--fill-color);\n",
              "    border-color: transparent;\n",
              "    border-bottom-color: var(--fill-color);\n",
              "    animation:\n",
              "      spin 1s steps(1) infinite;\n",
              "  }\n",
              "\n",
              "  @keyframes spin {\n",
              "    0% {\n",
              "      border-color: transparent;\n",
              "      border-bottom-color: var(--fill-color);\n",
              "      border-left-color: var(--fill-color);\n",
              "    }\n",
              "    20% {\n",
              "      border-color: transparent;\n",
              "      border-left-color: var(--fill-color);\n",
              "      border-top-color: var(--fill-color);\n",
              "    }\n",
              "    30% {\n",
              "      border-color: transparent;\n",
              "      border-left-color: var(--fill-color);\n",
              "      border-top-color: var(--fill-color);\n",
              "      border-right-color: var(--fill-color);\n",
              "    }\n",
              "    40% {\n",
              "      border-color: transparent;\n",
              "      border-right-color: var(--fill-color);\n",
              "      border-top-color: var(--fill-color);\n",
              "    }\n",
              "    60% {\n",
              "      border-color: transparent;\n",
              "      border-right-color: var(--fill-color);\n",
              "    }\n",
              "    80% {\n",
              "      border-color: transparent;\n",
              "      border-right-color: var(--fill-color);\n",
              "      border-bottom-color: var(--fill-color);\n",
              "    }\n",
              "    90% {\n",
              "      border-color: transparent;\n",
              "      border-bottom-color: var(--fill-color);\n",
              "    }\n",
              "  }\n",
              "</style>\n",
              "\n",
              "  <script>\n",
              "    async function quickchart(key) {\n",
              "      const quickchartButtonEl =\n",
              "        document.querySelector('#' + key + ' button');\n",
              "      quickchartButtonEl.disabled = true;  // To prevent multiple clicks.\n",
              "      quickchartButtonEl.classList.add('colab-df-spinner');\n",
              "      try {\n",
              "        const charts = await google.colab.kernel.invokeFunction(\n",
              "            'suggestCharts', [key], {});\n",
              "      } catch (error) {\n",
              "        console.error('Error during call to suggestCharts:', error);\n",
              "      }\n",
              "      quickchartButtonEl.classList.remove('colab-df-spinner');\n",
              "      quickchartButtonEl.classList.add('colab-df-quickchart-complete');\n",
              "    }\n",
              "    (() => {\n",
              "      let quickchartButtonEl =\n",
              "        document.querySelector('#df-03aa6637-2b5b-40ae-b431-8c726868d387 button');\n",
              "      quickchartButtonEl.style.display =\n",
              "        google.colab.kernel.accessAllowed ? 'block' : 'none';\n",
              "    })();\n",
              "  </script>\n",
              "</div>\n",
              "\n",
              "  <div id=\"id_52a1f281-3bf6-4d6e-98c3-05b95d73360a\">\n",
              "    <style>\n",
              "      .colab-df-generate {\n",
              "        background-color: #E8F0FE;\n",
              "        border: none;\n",
              "        border-radius: 50%;\n",
              "        cursor: pointer;\n",
              "        display: none;\n",
              "        fill: #1967D2;\n",
              "        height: 32px;\n",
              "        padding: 0 0 0 0;\n",
              "        width: 32px;\n",
              "      }\n",
              "\n",
              "      .colab-df-generate:hover {\n",
              "        background-color: #E2EBFA;\n",
              "        box-shadow: 0px 1px 2px rgba(60, 64, 67, 0.3), 0px 1px 3px 1px rgba(60, 64, 67, 0.15);\n",
              "        fill: #174EA6;\n",
              "      }\n",
              "\n",
              "      [theme=dark] .colab-df-generate {\n",
              "        background-color: #3B4455;\n",
              "        fill: #D2E3FC;\n",
              "      }\n",
              "\n",
              "      [theme=dark] .colab-df-generate:hover {\n",
              "        background-color: #434B5C;\n",
              "        box-shadow: 0px 1px 3px 1px rgba(0, 0, 0, 0.15);\n",
              "        filter: drop-shadow(0px 1px 2px rgba(0, 0, 0, 0.3));\n",
              "        fill: #FFFFFF;\n",
              "      }\n",
              "    </style>\n",
              "    <button class=\"colab-df-generate\" onclick=\"generateWithVariable('df1')\"\n",
              "            title=\"Generate code using this dataframe.\"\n",
              "            style=\"display:none;\">\n",
              "\n",
              "  <svg xmlns=\"http://www.w3.org/2000/svg\" height=\"24px\"viewBox=\"0 0 24 24\"\n",
              "       width=\"24px\">\n",
              "    <path d=\"M7,19H8.4L18.45,9,17,7.55,7,17.6ZM5,21V16.75L18.45,3.32a2,2,0,0,1,2.83,0l1.4,1.43a1.91,1.91,0,0,1,.58,1.4,1.91,1.91,0,0,1-.58,1.4L9.25,21ZM18.45,9,17,7.55Zm-12,3A5.31,5.31,0,0,0,4.9,8.1,5.31,5.31,0,0,0,1,6.5,5.31,5.31,0,0,0,4.9,4.9,5.31,5.31,0,0,0,6.5,1,5.31,5.31,0,0,0,8.1,4.9,5.31,5.31,0,0,0,12,6.5,5.46,5.46,0,0,0,6.5,12Z\"/>\n",
              "  </svg>\n",
              "    </button>\n",
              "    <script>\n",
              "      (() => {\n",
              "      const buttonEl =\n",
              "        document.querySelector('#id_52a1f281-3bf6-4d6e-98c3-05b95d73360a button.colab-df-generate');\n",
              "      buttonEl.style.display =\n",
              "        google.colab.kernel.accessAllowed ? 'block' : 'none';\n",
              "\n",
              "      buttonEl.onclick = () => {\n",
              "        google.colab.notebook.generateWithVariable('df1');\n",
              "      }\n",
              "      })();\n",
              "    </script>\n",
              "  </div>\n",
              "\n",
              "    </div>\n",
              "  </div>\n"
            ]
          },
          "metadata": {},
          "execution_count": 30
        }
      ]
    },
    {
      "cell_type": "code",
      "source": [
        "print(df1)"
      ],
      "metadata": {
        "colab": {
          "base_uri": "https://localhost:8080/"
        },
        "id": "yYGHpsBEDHQd",
        "outputId": "a331a5b3-c3a4-4056-a23a-1d2fdc6a99ef"
      },
      "execution_count": 31,
      "outputs": [
        {
          "output_type": "stream",
          "name": "stdout",
          "text": [
            "     ser1       ser2    ser3\n",
            "0      12         13      12\n",
            "1   nasim       what   nasim\n",
            "2     786    nothere     786\n",
            "3   india  Hindustan   india\n",
            "4  BhARAT         56  BhARAT\n"
          ]
        }
      ]
    },
    {
      "cell_type": "code",
      "source": [
        "df1.info()"
      ],
      "metadata": {
        "colab": {
          "base_uri": "https://localhost:8080/"
        },
        "id": "zTKuVhl0DJgl",
        "outputId": "d1bc04ae-8f84-4177-c027-da706162f9f8"
      },
      "execution_count": 33,
      "outputs": [
        {
          "output_type": "stream",
          "name": "stdout",
          "text": [
            "<class 'pandas.core.frame.DataFrame'>\n",
            "RangeIndex: 5 entries, 0 to 4\n",
            "Data columns (total 3 columns):\n",
            " #   Column  Non-Null Count  Dtype \n",
            "---  ------  --------------  ----- \n",
            " 0   ser1    5 non-null      object\n",
            " 1   ser2    5 non-null      object\n",
            " 2   ser3    5 non-null      object\n",
            "dtypes: object(3)\n",
            "memory usage: 248.0+ bytes\n"
          ]
        }
      ]
    },
    {
      "cell_type": "code",
      "source": [],
      "metadata": {
        "id": "dFja1bV4DLdF"
      },
      "execution_count": null,
      "outputs": []
    }
  ]
}